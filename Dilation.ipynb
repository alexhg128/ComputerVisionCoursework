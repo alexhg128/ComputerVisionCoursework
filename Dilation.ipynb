{
 "cells": [
  {
   "cell_type": "code",
   "execution_count": 27,
   "metadata": {
    "collapsed": true
   },
   "outputs": [],
   "source": [
    "import numpy as np\n",
    "import cv2 as cv\n",
    "from matplotlib import pyplot as plt\n",
    "from typing import List\n",
    "from enum import Enum"
   ]
  },
  {
   "cell_type": "code",
   "execution_count": 34,
   "outputs": [],
   "source": [
    "\"\"\"\n",
    "Using Jetbrains DataSpell IDE inverts the color of grayscale images\n",
    "when plotting using matplotlib, change this variable to false if you\n",
    "are using Google Colab, VS Code or any other IDE\n",
    "\"\"\"\n",
    "INVERTED_IMG_COLOR = True\n",
    "\n",
    "\"\"\"\n",
    "Helper method to handle the plotting of an image using matplotlib\n",
    "\"\"\"\n",
    "def plot(img: List[List]):\n",
    "    stg = img.copy()\n",
    "    if INVERTED_IMG_COLOR:\n",
    "        for i in range(len(img)):\n",
    "            for j in range(len(img[0])):\n",
    "                stg[i, j] = 255 - stg[i, j]\n",
    "    plt.imshow(stg, cmap=\"gray\", vmin=0, vmax=255)\n",
    "    plt.show()\n",
    "\n",
    "\"\"\"\n",
    "Helper method to print multiple small images side to side\n",
    "\"\"\"\n",
    "def plot_multiple(img: List[List[List]]):\n",
    "    size, w, h = len(img), [], []\n",
    "\n",
    "    super_img = []\n",
    "\n",
    "    if size == 0:\n",
    "        return\n",
    "\n",
    "    for i in range(size):\n",
    "        h.append(len(img[i]))\n",
    "        w.append(len(img[i][0]))\n",
    "\n",
    "    for i in range(max(h)):\n",
    "        super_img.append([])\n",
    "        for j in range(size):\n",
    "            if i < h[j]:\n",
    "                super_img[i].extend(img[j][i])\n",
    "            else:\n",
    "                super_img[i].extend([0] * w[j])\n",
    "\n",
    "    plot(np.array(super_img))"
   ],
   "metadata": {
    "collapsed": false
   }
  },
  {
   "cell_type": "markdown",
   "source": [
    "# Transformación morfologica de dilatación\n",
    "\n",
    "La dilatación en el procesamiento de imagenes digitales se trata de un proceso opuesto a la erosión, en el que se pretende expandir o alargar la figura de un objecto en vez de hacerlo lucir más pequeño o delgado. Este procesamiento se puede utilizar para reducir las brechas o el ruido existente en una imagen y de esta manera mejorar la calidad de la imagen (Davies, 2018)."
   ],
   "metadata": {
    "collapsed": false
   }
  },
  {
   "cell_type": "markdown",
   "source": [
    "Referencias:\n",
    "\n",
    "Davies, E.R. (2018) Computer vision: Principles, algorithms, applications, learning. London: Academic Press."
   ],
   "metadata": {
    "collapsed": false
   }
  },
  {
   "cell_type": "code",
   "execution_count": 29,
   "outputs": [],
   "source": [
    "\"\"\"\n",
    "Enumeration of the color spaces, so we can pass to the method\n",
    "to identify if working with a binary or grayscale image\n",
    "\"\"\"\n",
    "class ColorSpace(Enum):\n",
    "    BlackAndWhite=1\n",
    "    Grayscale=2\n",
    "\n",
    "\"\"\"\n",
    "Enumeration to define different structures that can be used with the\n",
    "dilation method. 0 values are not considered part of the neighborhood.\n",
    "\"\"\"\n",
    "class Structure(Enum):\n",
    "\n",
    "    s3x3 = [\n",
    "        [0,1,0],\n",
    "        [1,1,1],\n",
    "        [0,1,0]\n",
    "    ]\n",
    "\n",
    "    s5x5 = [\n",
    "        [0,0,1,0,0],\n",
    "        [0,1,1,1,0],\n",
    "        [1,1,1,1,1],\n",
    "        [0,1,1,1,0],\n",
    "        [0,0,1,0,0]\n",
    "    ]\n",
    "\n",
    "    s1x3 = [\n",
    "        [1,1,1]\n",
    "    ]\n",
    "\n",
    "    s3x1 = [\n",
    "        [1],\n",
    "        [1],\n",
    "        [1]\n",
    "    ]\n",
    "\n",
    "    \"\"\"\n",
    "    Method to obtain the structure for the specific color space, this mean that\n",
    "    for grayscale images we should return 255 or 0 while binary images expect 1 or 0.\n",
    "    \"\"\"\n",
    "    def in_color_space(self, color_space:ColorSpace = ColorSpace.Grayscale):\n",
    "        val = 255\n",
    "        if color_space == ColorSpace.BlackAndWhite:\n",
    "            val = 1\n",
    "        return np.multiply(self.value, val)\n",
    "\n",
    "\"\"\"\n",
    "Method to add padding to an image on the borders. By default the padding\n",
    "value is 0.\n",
    "\"\"\"\n",
    "def add_padding(img: List[List], padding_h: int, padding_w: int, value: int = 0) -> List[List]:\n",
    "    w = len(img[0])\n",
    "    h = len(img)\n",
    "    padded_img = []\n",
    "\n",
    "    # Vertical padding\n",
    "    for i in range(padding_h):\n",
    "        padded_img.append([value] * (w + 2 * padding_w))\n",
    "\n",
    "    for i in range(h):\n",
    "        # Horizontal padding\n",
    "        padded_img.append([value] * padding_w)\n",
    "        padded_img[i + padding_h].extend(img[i])\n",
    "        padded_img[i + padding_h].extend([0] * padding_w)\n",
    "\n",
    "    # Vertical padding\n",
    "    for i in range(padding_h):\n",
    "        padded_img.append([value] * (w + 2 * padding_w))\n",
    "\n",
    "    return padded_img"
   ],
   "metadata": {
    "collapsed": false
   }
  },
  {
   "cell_type": "code",
   "execution_count": 30,
   "outputs": [],
   "source": [
    "\"\"\"\n",
    "Method to perform a dilation transformation over an image with an specified\n",
    "structure.\n",
    "\"\"\"\n",
    "def dilation(img: List[List], structure:Structure = Structure.s3x3, color:ColorSpace = ColorSpace.Grayscale) -> List[List]:\n",
    "\n",
    "    # Structure 1/0 for binary, 255,0 for grayscale\n",
    "    str_elem = structure.in_color_space(color)\n",
    "\n",
    "    # Assuming an odd length structure, padding should be the half\n",
    "    padding_w = (len(str_elem[0]) -1) // 2\n",
    "    padding_h = (len(str_elem) -1) // 2\n",
    "\n",
    "    # Image size\n",
    "    w = len(img[0])\n",
    "    h = len(img)\n",
    "\n",
    "    # Structure size\n",
    "    s_w = len(str_elem[0])\n",
    "    s_h = len(str_elem)\n",
    "\n",
    "    # We add the padding to the image\n",
    "    padded_img = add_padding(img, padding_h, padding_w)\n",
    "    padded_img = np.array(padded_img)\n",
    "\n",
    "    # Here the new image is created\n",
    "    final_img = np.zeros((h, w))\n",
    "\n",
    "    \"\"\"\n",
    "    Because dilation is defined as to place a 1 if any of the neighborhood pixels is 1,\n",
    "    and for greyscale it is generalized as the maximum value in the neighborhood, given\n",
    "    this the last can be generalized to both binary and grayscale.\n",
    "\n",
    "    The approach in this implementation is to filter first the pixels that belong to the\n",
    "    neighborhood and then find the maximum within them.\n",
    "    \"\"\"\n",
    "    for i in range(h):\n",
    "        for j in range(w):\n",
    "            \"\"\"\n",
    "            Since structures values are 255/0 or 1/0 we use the minimum function to filter\n",
    "            pixels that are not part of the neighborhood, which will be updated to 0.\n",
    "            \"\"\"\n",
    "            m = np.minimum(str_elem, padded_img[i: i + s_h, j: j + s_w])\n",
    "            \"\"\"\n",
    "            Given we filtered the pixels, then we find the maximum value within the window\n",
    "            and assign that as the resulting pixel in the processed image.\n",
    "            \"\"\"\n",
    "            final_img[i, j] = m.max()\n",
    "\n",
    "    return final_img"
   ],
   "metadata": {
    "collapsed": false
   }
  },
  {
   "cell_type": "code",
   "execution_count": 31,
   "outputs": [
    {
     "data": {
      "text/plain": "<Figure size 640x480 with 1 Axes>",
      "image/png": "[encoded data removed]"
     },
     "metadata": {},
     "output_type": "display_data"
    }
   ],
   "source": [
    "img = cv.imread('Images/8.jpeg', 0)\n",
    "plot(img)"
   ],
   "metadata": {
    "collapsed": false
   }
  },
  {
   "cell_type": "code",
   "execution_count": 32,
   "outputs": [
    {
     "data": {
      "text/plain": "<Figure size 640x480 with 1 Axes>",
      "image/png": "[encoded data removed]"
     },
     "metadata": {},
     "output_type": "display_data"
    },
    {
     "data": {
      "text/plain": "<Figure size 640x480 with 1 Axes>",
      "image/png": "[encoded data removed]"
     },
     "metadata": {},
     "output_type": "display_data"
    },
    {
     "data": {
      "text/plain": "<Figure size 640x480 with 1 Axes>",
      "image/png": "[encoded data removed]"
     },
     "metadata": {},
     "output_type": "display_data"
    },
    {
     "data": {
      "text/plain": "<Figure size 640x480 with 1 Axes>",
      "image/png": "[encoded data removed]"
     },
     "metadata": {},
     "output_type": "display_data"
    }
   ],
   "source": [
    "processed_img = [\n",
    "    dilation(img, structure=Structure.s3x3),\n",
    "    dilation(img, structure=Structure.s5x5),\n",
    "    dilation(img, structure=Structure.s1x3),\n",
    "    dilation(img, structure=Structure.s3x1),\n",
    "]\n",
    "plot(processed_img[0])\n",
    "plot(processed_img[1])\n",
    "plot(processed_img[2])\n",
    "plot(processed_img[3])"
   ],
   "metadata": {
    "collapsed": false
   }
  },
  {
   "cell_type": "code",
   "execution_count": 36,
   "outputs": [
    {
     "data": {
      "text/plain": "<Figure size 640x480 with 1 Axes>",
      "image/png": "[encoded data removed]"
     },
     "metadata": {},
     "output_type": "display_data"
    }
   ],
   "source": [
    "\"\"\"\n",
    "1st image: Original\n",
    "2nd image: 3x3 structure\n",
    "3rd image: 5x5 structure\n",
    "4th image: 1x3 structure\n",
    "5th image: 3x1 structure\n",
    "\"\"\"\n",
    "\n",
    "plot_multiple([img] + processed_img)"
   ],
   "metadata": {
    "collapsed": false
   }
  },
  {
   "cell_type": "markdown",
   "source": [
    "Se puede observar de este modo que la transformación de dilatacion expande el tamaño del objeto y dependiendo de la estructura utilizada se puede dilatar solo en una dirección o bien se puede alterar la intensidad de la transformación."
   ],
   "metadata": {
    "collapsed": false
   }
  },
  {
   "cell_type": "code",
   "execution_count": null,
   "outputs": [],
   "source": [],
   "metadata": {
    "collapsed": false
   }
  }
 ],
 "metadata": {
  "kernelspec": {
   "display_name": "Python 3",
   "language": "python",
   "name": "python3"
  },
  "language_info": {
   "codemirror_mode": {
    "name": "ipython",
    "version": 2
   },
   "file_extension": ".py",
   "mimetype": "text/x-python",
   "name": "python",
   "nbconvert_exporter": "python",
   "pygments_lexer": "ipython2",
   "version": "2.7.6"
  }
 },
 "nbformat": 4,
 "nbformat_minor": 0
}
